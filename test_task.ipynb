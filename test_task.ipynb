{
 "cells": [
  {
   "cell_type": "code",
   "id": "initial_id",
   "metadata": {
    "collapsed": true
   },
   "source": [
    "import math\n",
    "\n",
    "import matplotlib.pyplot as plt\n",
    "import numpy as np\n",
    "import pandas as pd\n",
    "import plotly.express as px\n",
    "import plotly.graph_objects as go\n",
    "import seaborn as sns\n",
    "import optuna\n",
    "\n",
    "from sklearn.preprocessing import StandardScaler\n",
    "from sklearn.cluster import KMeans, HDBSCAN\n",
    "from sklearn.decomposition import PCA\n",
    "from sklearn.pipeline import Pipeline\n",
    "from sklearn.compose import ColumnTransformer\n",
    "from sklearn.model_selection import GridSearchCV\n",
    "from sklearn.metrics import make_scorer, silhouette_score\n",
    "from sklearn.feature_selection import VarianceThreshold\n",
    "from hdbscan import HDBSCAN\n",
    "from hdbscan.validity import validity_index\n",
    "from yellowbrick.cluster import silhouette_visualizer, kelbow_visualizer\n",
    "\n",
    "from utils import (\n",
    "    create_interactive_pie_charts,\n",
    "    plot_feature_correlations,\n",
    "    plot_feature_distributions,\n",
    ")"
   ],
   "outputs": [],
   "execution_count": null
  },
  {
   "metadata": {},
   "cell_type": "code",
   "source": [
    "# Load the data\n",
    "data = pd.read_csv(\"customer_data_test.csv\", sep=\";\", index_col=0)\n",
    "data = data.drop(columns=[\"ClientId\"])"
   ],
   "id": "b75cb82880b5db6e",
   "outputs": [],
   "execution_count": null
  },
  {
   "metadata": {},
   "cell_type": "code",
   "source": [
    "# Display the first 5 rows of the data\n",
    "data.head()"
   ],
   "id": "a73c6359ff9e95fd",
   "outputs": [],
   "execution_count": null
  },
  {
   "metadata": {},
   "cell_type": "code",
   "source": [
    "data.info()"
   ],
   "id": "679b3620b024c227",
   "outputs": [],
   "execution_count": null
  },
  {
   "metadata": {},
   "cell_type": "code",
   "source": [
    "# Check for missing values\n",
    "data.isnull().sum()"
   ],
   "id": "badeb0fb157c259d",
   "outputs": [],
   "execution_count": null
  },
  {
   "metadata": {},
   "cell_type": "code",
   "source": [
    "# Check for duplicates\n",
    "data.duplicated().sum()"
   ],
   "id": "88ce3b46dbdde743",
   "outputs": [],
   "execution_count": null
  },
  {
   "metadata": {},
   "cell_type": "code",
   "source": [
    "# Check for unique values\n",
    "data.nunique()"
   ],
   "id": "448e384dfc7f2861",
   "outputs": [],
   "execution_count": null
  },
  {
   "metadata": {},
   "cell_type": "code",
   "source": [
    "# Check negative values\n",
    "(data < 0).sum()"
   ],
   "id": "59c1b9b9e459914a",
   "outputs": [],
   "execution_count": null
  },
  {
   "metadata": {},
   "cell_type": "code",
   "source": [
    "# Describe the data\n",
    "percentiles = [0.01, 0.05, 0.25, 0.5, 0.75, 0.95, 0.99]\n",
    "data.describe(percentiles=percentiles)"
   ],
   "id": "159efdbf6cbf5341",
   "outputs": [],
   "execution_count": null
  },
  {
   "metadata": {},
   "cell_type": "code",
   "source": [
    "# Change all columns with unit \"days\" to be less than 365\n",
    "days_columns = [col for col in data.columns if \"Days\" in col]\n",
    "days_columns += [\"LifeTime\", \"TimeToFirstDeposit\"]\n",
    "days_columns.remove(\"PercActiveDays\")\n",
    "days_columns"
   ],
   "id": "ef4068597ac62e81",
   "outputs": [],
   "execution_count": null
  },
  {
   "metadata": {},
   "cell_type": "code",
   "source": [
    "for col in days_columns:\n",
    "    data[col] = data[col].apply(lambda x: min(x, 365))"
   ],
   "id": "469252c67a719157",
   "outputs": [],
   "execution_count": null
  },
  {
   "metadata": {},
   "cell_type": "code",
   "source": [
    "# Replace columns with percentage and coefficient values greater than 1 with 1\n",
    "perc_coeff_columns = [col for col in data.columns if \"Perc\" in col]\n",
    "perc_coeff_columns.append(\"WinCoefficient\")\n",
    "perc_coeff_columns"
   ],
   "id": "b04961ee63709f29",
   "outputs": [],
   "execution_count": null
  },
  {
   "metadata": {},
   "cell_type": "code",
   "source": [
    "for col in perc_coeff_columns:\n",
    "    data[col] = data[col].apply(lambda x: min(x, 1))"
   ],
   "id": "8821a324cfb63263",
   "outputs": [],
   "execution_count": null
  },
  {
   "metadata": {},
   "cell_type": "code",
   "source": [
    "# Replace TotalInactiveDays less than 0 with 0\n",
    "data[\"TotalInactiveDays\"] = data[\"TotalInactiveDays\"].apply(lambda x: max(x, 0))"
   ],
   "id": "3d0737ae364a5d75",
   "outputs": [],
   "execution_count": null
  },
  {
   "metadata": {},
   "cell_type": "code",
   "source": [
    "# Delete ActivePassiveRatio column\n",
    "data = data.drop(columns=\"ActivePassiveRatio\")"
   ],
   "id": "80ef94db5062b0de",
   "outputs": [],
   "execution_count": null
  },
  {
   "metadata": {},
   "cell_type": "code",
   "source": [
    "# Describe the data\n",
    "data.describe(percentiles=percentiles)"
   ],
   "id": "6e40635876337f21",
   "outputs": [],
   "execution_count": null
  },
  {
   "metadata": {},
   "cell_type": "code",
   "source": [
    "# Get the most correlated features without duplicates\n",
    "corr_matrix = data.corr().abs()\n",
    "upper = corr_matrix.where(np.triu(np.ones(corr_matrix.shape), k=1).astype(bool))\n",
    "most_correlated = upper.stack().sort_values(ascending=False)\n",
    "most_correlated = most_correlated[most_correlated > 0.5]\n",
    "most_correlated"
   ],
   "id": "24b5d93d6ecf3f16",
   "outputs": [],
   "execution_count": null
  },
  {
   "metadata": {},
   "cell_type": "code",
   "source": [
    "# Drop the most correlated features\n",
    "to_drop = [\n",
    "    \"TeamCount\",\n",
    "    \"TotalInactiveDays\",\n",
    "    \"MaxCompetitionPercent\",\n",
    "    \"BetCount\",\n",
    "    \"CountActiveBetDays\",\n",
    "    \"TurnoverBonusInEur\",\n",
    "    \"PercActiveDays\",\n",
    "]"
   ],
   "id": "e0840793d0bad65d",
   "outputs": [],
   "execution_count": null
  },
  {
   "metadata": {},
   "cell_type": "code",
   "source": "# data = data.drop(columns=to_drop)",
   "id": "980ddf8944b0b09b",
   "outputs": [],
   "execution_count": null
  },
  {
   "metadata": {},
   "cell_type": "markdown",
   "source": "### Sanity check of all features",
   "id": "3f6f5d50937e89fa"
  },
  {
   "metadata": {},
   "cell_type": "code",
   "source": "data.describe(percentiles=percentiles)",
   "id": "9818f748d55e39aa",
   "outputs": [],
   "execution_count": null
  },
  {
   "metadata": {},
   "cell_type": "code",
   "source": "plot_feature_correlations(data)",
   "id": "83d341667f9b0a3b",
   "outputs": [],
   "execution_count": null
  },
  {
   "metadata": {},
   "cell_type": "code",
   "source": "plot_feature_distributions(data)",
   "id": "13ef22969ebb1606",
   "outputs": [],
   "execution_count": null
  },
  {
   "metadata": {},
   "cell_type": "code",
   "source": [
    "# Binned features analysis\n",
    "create_interactive_pie_charts(data, num_bins=10)"
   ],
   "id": "ee312a01b3c4982e",
   "outputs": [],
   "execution_count": null
  },
  {
   "metadata": {},
   "cell_type": "markdown",
   "source": "### GGRInEur analysis",
   "id": "76c8f90ebdeb9bc3"
  },
  {
   "metadata": {},
   "cell_type": "code",
   "source": "data[\"GGRInEur\"].describe(percentiles=percentiles)",
   "id": "93f979656d81ad19",
   "outputs": [],
   "execution_count": null
  },
  {
   "metadata": {},
   "cell_type": "code",
   "source": "print(f\"{data[data['GGRInEur'] < 0].shape[0] / data.shape[0]:0.2f}% of users won more than they lost\")",
   "id": "da3d8ebdd3b9aaf6",
   "outputs": [],
   "execution_count": null
  },
  {
   "metadata": {},
   "cell_type": "markdown",
   "source": "### Clustering",
   "id": "8ddde68dd72c5a33"
  },
  {
   "metadata": {},
   "cell_type": "code",
   "source": [
    "scaler = StandardScaler()\n",
    "scaled_data = scaler.fit_transform(data)\n",
    "pca = PCA(n_components=scaled_data.shape[1])\n",
    "pca.fit(scaled_data)"
   ],
   "id": "3d22096c9ccab23",
   "outputs": [],
   "execution_count": null
  },
  {
   "metadata": {},
   "cell_type": "code",
   "source": [
    "plt.figure(figsize=(10, 6))\n",
    "plt.plot(np.cumsum(pca.explained_variance_ratio_))\n",
    "plt.xlabel(\"Number of components\")\n",
    "plt.ylabel(\"Cumulative explained variance\")\n",
    "plt.grid()\n",
    "plt.show()"
   ],
   "id": "3676be4eb5b3743e",
   "outputs": [],
   "execution_count": null
  },
  {
   "metadata": {},
   "cell_type": "code",
   "source": "visualizer = kelbow_visualizer(KMeans(), scaled_data, k=(2, 12))",
   "id": "4808d52dbd71bb94",
   "outputs": [],
   "execution_count": null
  },
  {
   "metadata": {},
   "cell_type": "code",
   "source": [
    "# Define the objective function for Optuna\n",
    "def objective(trial):\n",
    "    # Define hyperparameters to tune\n",
    "    n_components = trial.suggest_categorical(\"pca__n_components\", [0.8, 0.9, 0.95, 0.99])\n",
    "    # n_clusters = trial.suggest_categorical(\"kmeans__n_clusters\", [2])\n",
    "    n_init = trial.suggest_categorical(\"kmeans__n_init\", [10, 20, 30])\n",
    "    max_iter = trial.suggest_categorical(\"kmeans__max_iter\", [300, 500, 1000])\n",
    "    \n",
    "    \n",
    "    # Create column transformer\n",
    "    column_transformer = ColumnTransformer([\n",
    "        ('scaler', StandardScaler(), slice(0, data.shape[1])),\n",
    "        ('pca', PCA(n_components=n_components), slice(0, data.shape[1]))\n",
    "    ], remainder='passthrough')\n",
    "    \n",
    "    # Create pipeline\n",
    "    pipe = Pipeline([\n",
    "        (\"col_transformer\", column_transformer),\n",
    "        (\"clusterer\", KMeans(\n",
    "            n_clusters=visualizer.elbow_value_,\n",
    "            n_init=n_init,\n",
    "            max_iter=max_iter\n",
    "        ))\n",
    "    ])\n",
    "\n",
    "    pipe.fit(data)\n",
    "\n",
    "    return silhouette_score(pipe.named_steps[\"col_transformer\"].transform(data), pipe.named_steps[\"clusterer\"].labels_)\n",
    "\n",
    "# Create a study for grid search\n",
    "study = optuna.create_study(direction=\"maximize\")\n",
    "study.optimize(objective, n_trials=100)\n",
    "\n",
    "# Print the best parameters\n",
    "print(\"Best parameters found: \", study.best_params)\n",
    "print(\"Best DBCV score: \", study.best_value)"
   ],
   "id": "7995e12cb953c9ed",
   "outputs": [],
   "execution_count": null
  },
  {
   "metadata": {},
   "cell_type": "code",
   "source": [
    "# Define the objective function for Optuna\n",
    "def objective(trial):\n",
    "    # Define hyperparameters to tune\n",
    "    n_components = trial.suggest_categorical(\"pca__n_components\", np.arange(0.1, 1, 0.1).tolist() + [0.99])\n",
    "    min_cluster_size = trial.suggest_categorical(\"hdbscan__min_cluster_size\", np.arange(100, 1100, 100).tolist())\n",
    "    min_samples = trial.suggest_categorical(\"hdbscan__min_samples\", np.arange(10, 110, 10).tolist())\n",
    "    cluster_selection_epsilon = trial.suggest_categorical(\"hdbscan__cluster_selection_epsilon\", np.arange(0.1, 1.1, 0.1).tolist())\n",
    "    cluster_selection_method = trial.suggest_categorical(\"hdbscan__cluster_selection_method\", ['eom', 'leaf'])\n",
    "\n",
    "    # Create column transformer\n",
    "    column_transformer = ColumnTransformer([\n",
    "        ('scaler', StandardScaler(), slice(0, data.shape[1])),\n",
    "        ('pca', PCA(n_components=n_components), slice(0, data.shape[1]))\n",
    "    ], remainder='passthrough')\n",
    "    \n",
    "    # Create pipeline\n",
    "    pipe = Pipeline([\n",
    "        (\"col_transformer\", column_transformer),\n",
    "        (\"clusterer\", HDBSCAN(\n",
    "            min_cluster_size=min_cluster_size,\n",
    "            min_samples=min_samples,\n",
    "            cluster_selection_epsilon=cluster_selection_epsilon,\n",
    "            cluster_selection_method=cluster_selection_method,\n",
    "            allow_single_cluster=False,\n",
    "            gen_min_span_tree=True\n",
    "        ))\n",
    "    ])\n",
    "\n",
    "    pipe.fit(data)\n",
    "\n",
    "    # Calculate approximation of DBCV\n",
    "    dbcv = pipe.named_steps[\"clusterer\"].relative_validity_\n",
    "\n",
    "    return dbcv\n",
    "\n",
    "search_space = {\n",
    "    \"pca__n_components\": np.arange(0.1, 1, 0.1).tolist() + [0.99],\n",
    "    \"hdbscan__min_cluster_size\": np.arange(100, 1100, 100).tolist(),\n",
    "    \"hdbscan__min_samples\": np.arange(10, 110, 10).tolist(),\n",
    "    \"hdbscan__cluster_selection_epsilon\": np.arange(0.1, 1.1, 0.1).tolist(),\n",
    "    \"hdbscan__cluster_selection_method\": ['eom', 'leaf']\n",
    "}\n",
    "\n",
    "# Create a study for grid search\n",
    "# study = optuna.create_study(direction=\"maximize\", sampler=optuna.samplers.GridSampler(search_space))\n",
    "# study.optimize(objective, n_trials=np.prod([len(v) for v in search_space.values()]))\n",
    "study = optuna.create_study(direction=\"maximize\")\n",
    "study.optimize(objective, n_trials=100)\n",
    "\n",
    "# Print the best parameters\n",
    "print(\"Best parameters found: \", study.best_params)\n",
    "print(\"Best DBCV score: \", study.best_value)"
   ],
   "id": "124fa75eb5de34d8",
   "outputs": [],
   "execution_count": null
  },
  {
   "metadata": {},
   "cell_type": "code",
   "source": [
    "# Create column transformer\n",
    "column_transformer = ColumnTransformer([\n",
    "    ('scaler', StandardScaler(), slice(0, data.shape[1])),\n",
    "    ('pca', PCA(n_components=study.best_params[\"pca__n_components\"]), slice(0, data.shape[1]))\n",
    "], remainder='passthrough')\n",
    "\n",
    "# Create pipeline\n",
    "pipe = Pipeline([\n",
    "    (\"col_transformer\", column_transformer),\n",
    "    (\"clusterer\", HDBSCAN(\n",
    "        min_cluster_size=study.best_params[\"hdbscan__min_cluster_size\"],\n",
    "        min_samples=study.best_params[\"hdbscan__min_samples\"],\n",
    "        cluster_selection_epsilon=study.best_params[\"hdbscan__cluster_selection_epsilon\"],\n",
    "        cluster_selection_method=study.best_params[\"hdbscan__cluster_selection_method\"],\n",
    "        allow_single_cluster=False,\n",
    "        gen_min_span_tree=True\n",
    "    ))\n",
    "])"
   ],
   "id": "578fecd9edfdae8f",
   "outputs": [],
   "execution_count": null
  },
  {
   "metadata": {},
   "cell_type": "code",
   "source": "pipe.fit(data)",
   "id": "f148061ff7a9b28c",
   "outputs": [],
   "execution_count": null
  },
  {
   "metadata": {},
   "cell_type": "code",
   "source": "labels = pipe.named_steps[\"clusterer\"].labels_",
   "id": "9ec6e88808b47d3e",
   "outputs": [],
   "execution_count": null
  },
  {
   "metadata": {},
   "cell_type": "code",
   "source": "np.unique(labels, return_counts=True)",
   "id": "36a1db6c4b639850",
   "outputs": [],
   "execution_count": null
  },
  {
   "metadata": {},
   "cell_type": "code",
   "source": "pipe.named_steps[\"clusterer\"].relative_validity_",
   "id": "81be104afa8d31eb",
   "outputs": [],
   "execution_count": null
  },
  {
   "metadata": {},
   "cell_type": "code",
   "source": "pipe.named_steps[\"col_transformer\"].transform(data)",
   "id": "26ab1e68a415104f",
   "outputs": [],
   "execution_count": null
  },
  {
   "metadata": {},
   "cell_type": "code",
   "source": "",
   "id": "4a1f95f83a0eeb76",
   "outputs": [],
   "execution_count": null
  }
 ],
 "metadata": {
  "kernelspec": {
   "display_name": "Python 3",
   "language": "python",
   "name": "python3"
  },
  "language_info": {
   "codemirror_mode": {
    "name": "ipython",
    "version": 2
   },
   "file_extension": ".py",
   "mimetype": "text/x-python",
   "name": "python",
   "nbconvert_exporter": "python",
   "pygments_lexer": "ipython2",
   "version": "2.7.6"
  }
 },
 "nbformat": 4,
 "nbformat_minor": 5
}
